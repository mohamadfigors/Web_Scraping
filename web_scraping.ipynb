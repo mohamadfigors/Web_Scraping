{
 "cells": [
  {
   "cell_type": "code",
   "execution_count": 40,
   "id": "7f6891dc",
   "metadata": {},
   "outputs": [],
   "source": [
    "# Import library\n",
    "import pandas as pd\n",
    "import numpy as np\n",
    "import re\n",
    "from bs4 import BeautifulSoup\n",
    "from datetime import date, timedelta, datetime\n",
    "from IPython.core.display import clear_output\n",
    "from random import randint\n",
    "from requests import get\n",
    "from selenium import webdriver\n",
    "from selenium.webdriver.common.action_chains import ActionChains\n",
    "from time import time, sleep\n",
    "start_time = time()\n",
    "\n",
    "import warnings\n",
    "warnings.simplefilter('ignore')"
   ]
  },
  {
   "cell_type": "code",
   "execution_count": 4,
   "id": "a592f26b",
   "metadata": {},
   "outputs": [],
   "source": [
    "# Copy url from Linkedin\n",
    "url = \"https://www.linkedin.com/jobs/search/?geoId=102478259&location=Indonesia\""
   ]
  },
  {
   "cell_type": "markdown",
   "id": "e5b1ab99",
   "metadata": {},
   "source": [
    "This link can be obtained from Linkedin by selecting the job tools option and entering the desired job location."
   ]
  },
  {
   "cell_type": "code",
   "execution_count": 14,
   "id": "fbadbb77",
   "metadata": {},
   "outputs": [],
   "source": [
    "# You can open url with chrome using chromedriver.exe\n",
    "driver = webdriver.Chrome(\"chromedriver.exe\")\n",
    "driver.get(url)\n",
    "sleep(3)\n",
    "action = ActionChains(driver)"
   ]
  },
  {
   "cell_type": "code",
   "execution_count": 15,
   "id": "31060910",
   "metadata": {},
   "outputs": [],
   "source": [
    "# Select pages that you want to scrap\n",
    "pageSource = driver.page_source\n",
    "lxml_soup = BeautifulSoup(pageSource, 'lxml')"
   ]
  },
  {
   "cell_type": "code",
   "execution_count": 16,
   "id": "881fb2ba",
   "metadata": {
    "scrolled": true
   },
   "outputs": [
    {
     "name": "stdout",
     "output_type": "stream",
     "text": [
      "['\\n            \\n        \\n        Quality Assurance Engineer\\n      \\n      \\n          ', '\\n            \\n        \\n        Cloud Engineer / DevOps\\n      \\n      \\n          ', '\\n            \\n        \\n        Account Executive (DailySocial)\\n      \\n      \\n          ', '\\n            \\n        \\n        Graphic Designer\\n      \\n      \\n          ', '\\n            \\n        \\n        Social Media Specialist\\n      \\n      \\n          ', '\\n            \\n        \\n        Finance and Accounting Manager\\n      \\n      \\n          ', '\\n            \\n        \\n        Videographer Officer\\n      \\n      \\n          ', '\\n            \\n        \\n        DevOps (Automate Engineer)\\n      \\n      \\n          ', '\\n            \\n        \\n        Java Backend Developer\\n      \\n      \\n          ', '\\n            \\n        \\n        Copywriter\\n      \\n      \\n          ', '\\n            \\n        \\n        Videographer & Video Editor PNM\\n      \\n      \\n          ', '\\n            \\n        \\n        Beauty Advisor - Surabaya\\n      \\n      \\n          ', '\\n            \\n        \\n        (Architecture Cambodia) Architect\\n      \\n      \\n          ', '\\n            \\n        \\n        Copywriter\\n      \\n      \\n          ', '\\n            \\n        \\n        Animator\\n      \\n      \\n          ', '\\n            \\n        \\n        Graphic Designer\\n      \\n      \\n          ', '\\n            \\n        \\n        Desktop Programmer\\n      \\n      \\n          ', '\\n            \\n        \\n        Photographer & Videographer\\n      \\n      \\n          ', '\\n            \\n        \\n        Account Executive (HISTORIA.id)\\n      \\n      \\n          ', '\\n            \\n        \\n        2D Motion/Animation Designer\\n      \\n      \\n          ', '\\n            \\n        \\n        Demi Chef Banquet\\n      \\n      \\n          ', '\\n            \\n        \\n        BnF Waiter/s\\n      \\n      \\n          ', '\\n            \\n        \\n        Senior Data Engineer\\n      \\n      \\n          ', '\\n            \\n        \\n        Beauty Advisor - Cirebon\\n      \\n      \\n          ', '\\n            \\n        \\n        Content Specialist & Video Editor (Urgently Needed)\\n      \\n      \\n          ', '\\n            \\n        \\n        Senior Art Director - Jakarta\\n      \\n      \\n          ', '\\n            \\n        \\n        Visual Storyteller\\n      \\n      \\n          ', '\\n            \\n        \\n        Backend SDET\\n      \\n      \\n          ', '\\n            \\n        \\n        Senior Research Manager - Real Estate (Securities Company)\\n      \\n      \\n          ', '\\n            \\n        \\n        Social Media Specialist Internship\\n      \\n      \\n          ', '\\n            \\n        \\n        Creative Video Editor\\n      \\n      \\n          ', '\\n            \\n        \\n        Kasir\\n      \\n      \\n          ', '\\n            \\n        \\n        Jr. Content Creator\\n      \\n      \\n          ', '\\n            \\n        \\n        Application/ Cloud Support and Development (Semarang)\\n      \\n      \\n          ', '\\n            \\n        \\n        Videographer/ Editor Based content Creator\\n      \\n      \\n          ', '\\n            \\n        \\n        Executive Butler - The St. Regis Jakarta\\n      \\n      \\n          ', '\\n            \\n        \\n        3D Motion/Animation Designer\\n      \\n      \\n          ', '\\n            \\n        \\n        Motion Artist\\n      \\n      \\n          ', '\\n            \\n        \\n        Social Media Strategist\\n      \\n      \\n          ', '\\n            \\n        \\n        Quality Assurance Specialist\\n      \\n      \\n          ', '\\n            \\n        \\n        Design Lead\\n      \\n      \\n          ', '\\n            \\n        \\n        Illustrator (HISTORIA.id)\\n      \\n      \\n          ', '\\n            \\n        \\n        Social Media Specialist\\n      \\n      \\n          ', '\\n            \\n        \\n        Chief Investment Officer - Private Equity\\n      \\n      \\n          ', '\\n            \\n        \\n        Graphic Designer\\n      \\n      \\n          ', '\\n            \\n        \\n        Graphic Designer\\n      \\n      \\n          ', '\\n            \\n        \\n        Social Media Specialist\\n      \\n      \\n          ', '\\n            \\n        \\n        Videographer\\n      \\n      \\n          ', '\\n            \\n        \\n        Creative Designer\\n      \\n      \\n          ', '\\n            \\n        \\n        Content Creator Intern\\n      \\n      \\n          ', '\\n            \\n        \\n        Multimedia Designer (Motion Graphic Designer)\\n      \\n      \\n          ', '\\n            \\n        \\n        Creative Director\\n      \\n      \\n          ', '\\n            \\n        \\n        IT QA Automation - Financial Industry\\n      \\n      \\n          ', '\\n            \\n        \\n        Spa Therapist\\n      \\n      \\n          ', '\\n            \\n        \\n        Photographer and Photo Editor\\n      \\n      \\n          ', '\\n            \\n        \\n        Front End - Angular\\n      \\n      \\n          ', '\\n            \\n        \\n        Community Associate : Content Copywriter\\n      \\n      \\n          ', '\\n            \\n        \\n        Videographer & Motion Graphic Designer\\n      \\n      \\n          ', '\\n            \\n        \\n        Jr. Legal\\n      \\n      \\n          ', '\\n            \\n        \\n        Chef de Partie (Western cuisine)\\n      \\n      \\n          ', '\\n            \\n        \\n        Copywriter/Creative Planner\\n      \\n      \\n          ', '\\n            \\n        \\n        Marketing Executive - Jakarta\\n      \\n      \\n          ', '\\n            \\n        \\n        Videographer\\n      \\n      \\n          ', '\\n            \\n        \\n        Back End Java\\n      \\n      \\n          ', '\\n            \\n        \\n        Internship Program: Activation Specialist Intern\\n      \\n      \\n          ', '\\n            \\n        \\n        Site Reliability Engineer\\n      \\n      \\n          ', '\\n            \\n        \\n        Social Media Intern\\n      \\n      \\n          ', '\\n            \\n        \\n        Call Center Activations Representative\\n      \\n      \\n          ', '\\n            \\n        \\n        Graphic Designer\\n      \\n      \\n          ', '\\n            \\n        \\n        Multimedia Superintendent - Harian Kompas\\n      \\n      \\n          ', '\\n            \\n        \\n        Security Engineer\\n      \\n      \\n          ', '\\n            \\n        \\n        Digital Performance Marketing\\n      \\n      \\n          ', '\\n            \\n        \\n        Copywriter Intern\\n      \\n      \\n          ', '\\n            \\n        \\n        TREVO ID - Graphic Designer Intern\\n      \\n      \\n          ', '\\n            \\n        \\n        Videographer\\n      \\n      \\n          ', '\\n            \\n        \\n        VP of Engineering\\n      \\n      \\n          ', '\\n            \\n        \\n        Campaign Visual Designer\\n      \\n      \\n          ']\n",
      "\n",
      "77\n"
     ]
    }
   ],
   "source": [
    "# Scraping job data\n",
    "job = lxml_soup.findAll(\"span\", class_=\"screen-reader-text\")\n",
    "c = []\n",
    "for i in job:\n",
    "    c.append(i.text)\n",
    "print(c)\n",
    "print()\n",
    "print(len(c))"
   ]
  },
  {
   "cell_type": "code",
   "execution_count": 17,
   "id": "a64e0afa",
   "metadata": {
    "scrolled": true
   },
   "outputs": [
    {
     "name": "stdout",
     "output_type": "stream",
     "text": [
      "['Quality Assurance Engineer', 'Cloud Engineer / DevOps', 'Account Executive (DailySocial)', 'Graphic Designer', 'Social Media Specialist', 'Finance and Accounting Manager', 'Videographer Officer', 'DevOps (Automate Engineer)', 'Java Backend Developer', 'Copywriter', 'Videographer & Video Editor PNM', 'Beauty Advisor - Surabaya', '(Architecture Cambodia) Architect', 'Copywriter', 'Animator', 'Graphic Designer', 'Desktop Programmer', 'Photographer & Videographer', 'Account Executive (HISTORIA.id)', '2D Motion/Animation Designer', 'Demi Chef Banquet', 'BnF Waiter/s', 'Senior Data Engineer', 'Beauty Advisor - Cirebon', 'Content Specialist & Video Editor (Urgently Needed)', 'Senior Art Director - Jakarta', 'Visual Storyteller', 'Backend SDET', 'Senior Research Manager - Real Estate (Securities Company)', 'Social Media Specialist Internship', 'Creative Video Editor', 'Kasir', 'Jr. Content Creator', 'Application/ Cloud Support and Development (Semarang)', 'Videographer/ Editor Based content Creator', 'Executive Butler - The St. Regis Jakarta', '3D Motion/Animation Designer', 'Motion Artist', 'Social Media Strategist', 'Quality Assurance Specialist', 'Design Lead', 'Illustrator (HISTORIA.id)', 'Social Media Specialist', 'Chief Investment Officer - Private Equity', 'Graphic Designer', 'Graphic Designer', 'Social Media Specialist', 'Videographer', 'Creative Designer', 'Content Creator Intern', 'Multimedia Designer (Motion Graphic Designer)', 'Creative Director', 'IT QA Automation - Financial Industry', 'Spa Therapist', 'Photographer and Photo Editor', 'Front End - Angular', 'Community Associate : Content Copywriter', 'Videographer & Motion Graphic Designer', 'Jr. Legal', 'Chef de Partie (Western cuisine)', 'Copywriter/Creative Planner', 'Marketing Executive - Jakarta', 'Videographer', 'Back End Java', 'Internship Program: Activation Specialist Intern', 'Site Reliability Engineer', 'Social Media Intern', 'Call Center Activations Representative', 'Graphic Designer', 'Multimedia Superintendent - Harian Kompas', 'Security Engineer', 'Digital Performance Marketing', 'Copywriter Intern', 'TREVO ID - Graphic Designer Intern', 'Videographer', 'VP of Engineering', 'Campaign Visual Designer']\n",
      "77\n"
     ]
    }
   ],
   "source": [
    "# Tidy up data\n",
    "job_title = []\n",
    "for i in range(len(c)):\n",
    "    job_title.append(c[i].strip('\\n \\n \\n'))\n",
    "    job_title\n",
    "print(job_title)\n",
    "print(len(job_title))"
   ]
  },
  {
   "cell_type": "code",
   "execution_count": 18,
   "id": "9f2f993e",
   "metadata": {
    "scrolled": true
   },
   "outputs": [
    {
     "name": "stdout",
     "output_type": "stream",
     "text": [
      "['\\n            KlikDokter\\n          ', '\\n            KlikDokter\\n          ', '\\n            PT Merah Cipta Media\\n          ', '\\n            Dropezy (YC W22)\\n          ', '\\n            Prestisa\\n          ', '\\n            SMDV\\n          ', '\\n            PT. TrawlBens Teknologi Anak Indonesia\\n          ', '\\n            Jatis Mobile, PT. Informasi Teknologi Indonesia\\n          ', '\\n            PT. Infracom Technology\\n          ', '\\n            goKampus\\n          ', '\\n            Bali United Football Club\\n          ', '\\n            Somethinc - BeautyHaul\\n          ', '\\n            MatchaTalent\\n          ', '\\n            The Body Shop Indonesia\\n          ', '\\n            Satukelas\\n          ', '\\n            Maji Branding Agency\\n          ', '\\n            Bhakti\\n          ', '\\n            Bobobox\\n          ', '\\n            PT Merah Cipta Media\\n          ', '\\n            Boston Makmur Gemilang\\n          ', '\\n            PULLMAN\\n          ', '\\n            Renaissance Hotels\\n          ', '\\n            Sayurbox\\n          ', '\\n            Somethinc - BeautyHaul\\n          ', '\\n            Bali United Football Club\\n          ', '\\n            Tripledot Studios\\n          ', '\\n            In-depth Creative\\n          ', '\\n            Halodoc\\n          ', '\\n            Michael Page\\n          ', '\\n            Teman Pasar\\n          ', '\\n            RevoU\\n          ', '\\n            Pegadaian\\n          ', '\\n            RAENA\\n          ', '\\n            Accenture Southeast Asia\\n          ', '\\n            SINERGI REZEKI ANANTA\\n          ', '\\n            St. Regis Hotels & Resorts\\n          ', '\\n            Boston Makmur Gemilang\\n          ', '\\n            Antikode\\n          ', '\\n            Codemi\\n          ', '\\n            AlteaCare\\n          ', '\\n            Youtap Indonesia\\n          ', '\\n            PT Merah Cipta Media\\n          ', '\\n            GTech Digital Asia\\n          ', '\\n            Michael Page\\n          ', '\\n            PT Garland Cantik Indonesia (Dear Me Beauty)\\n          ', '\\n            Lamudi.co.id | Teman Tepercaya Cari Properti\\n          ', '\\n            HashMicro\\n          ', '\\n            GIGEL.ID\\n          ', '\\n            Griity \\n          ', '\\n            Tinkerlust\\n          ', '\\n            Mekari\\n          ', '\\n            SIRCLO\\n          ', '\\n            SIGMATECH\\n          ', '\\n            K Club Ubud\\n          ', '\\n            Aruna\\n          ', '\\n            Accenture Southeast Asia\\n          ', '\\n            Bali United Football Club\\n          ', '\\n            GoWork \\n          ', '\\n            Bizhare\\n          ', '\\n            PULLMAN\\n          ', '\\n            Bali United Football Club\\n          ', '\\n            Sayurbox\\n          ', '\\n            Geulis\\n          ', '\\n            PT Astra Welab Digital Arta (Maucash)\\n          ', '\\n            Mekari\\n          ', '\\n            Brick - Financial API\\n          ', '\\n            SIP Corp\\n          ', '\\n            Marriott Vacations Worldwide\\n          ', '\\n            Widya Edu\\n          ', '\\n            KOMPAS GRAMEDIA\\n          ', '\\n            Shipper\\n          ', '\\n            Heroleads Indonesia\\n          ', '\\n            PT. JACO NUSANTARA MANDIRI\\n          ', '\\n            SOCAR Mobility Malaysia\\n          ', '\\n            PT Murni Solusindo Nusantara\\n          ', '\\n            Zenius\\n          ', '\\n            BenihBaik.com\\n          ']\n",
      "\n",
      "77\n"
     ]
    }
   ],
   "source": [
    "# Scraping company name\n",
    "company = lxml_soup.findAll(\"a\", class_=\"hidden-nested-link\")\n",
    "d = []\n",
    "for i in company:\n",
    "    d.append(i.text)\n",
    "print(d)\n",
    "print()\n",
    "print(len(d))"
   ]
  },
  {
   "cell_type": "code",
   "execution_count": 20,
   "id": "ed89bbaf",
   "metadata": {},
   "outputs": [
    {
     "name": "stdout",
     "output_type": "stream",
     "text": [
      "['KlikDokter', 'KlikDokter', 'PT Merah Cipta Media', 'Dropezy (YC W22)', 'Prestisa', 'SMDV', 'PT. TrawlBens Teknologi Anak Indonesia', 'Jatis Mobile, PT. Informasi Teknologi Indonesia', 'PT. Infracom Technology', 'goKampus', 'Bali United Football Club', 'Somethinc - BeautyHaul', 'MatchaTalent', 'The Body Shop Indonesia', 'Satukelas', 'Maji Branding Agency', 'Bhakti', 'Bobobox', 'PT Merah Cipta Media', 'Boston Makmur Gemilang', 'PULLMAN', 'Renaissance Hotels', 'Sayurbox', 'Somethinc - BeautyHaul', 'Bali United Football Club', 'Tripledot Studios', 'In-depth Creative', 'Halodoc', 'Michael Page', 'Teman Pasar', 'RevoU', 'Pegadaian', 'RAENA', 'Accenture Southeast Asia', 'SINERGI REZEKI ANANTA', 'St. Regis Hotels & Resorts', 'Boston Makmur Gemilang', 'Antikode', 'Codemi', 'AlteaCare', 'Youtap Indonesia', 'PT Merah Cipta Media', 'GTech Digital Asia', 'Michael Page', 'PT Garland Cantik Indonesia (Dear Me Beauty)', 'Lamudi.co.id | Teman Tepercaya Cari Properti', 'HashMicro', 'GIGEL.ID', 'Griity', 'Tinkerlust', 'Mekari', 'SIRCLO', 'SIGMATECH', 'K Club Ubud', 'Aruna', 'Accenture Southeast Asia', 'Bali United Football Club', 'GoWork', 'Bizhare', 'PULLMAN', 'Bali United Football Club', 'Sayurbox', 'Geulis', 'PT Astra Welab Digital Arta (Maucash)', 'Mekari', 'Brick - Financial API', 'SIP Corp', 'Marriott Vacations Worldwide', 'Widya Edu', 'KOMPAS GRAMEDIA', 'Shipper', 'Heroleads Indonesia', 'PT. JACO NUSANTARA MANDIRI', 'SOCAR Mobility Malaysia', 'PT Murni Solusindo Nusantara', 'Zenius', 'BenihBaik.com']\n",
      "77\n"
     ]
    }
   ],
   "source": [
    "# Tidy up company name\n",
    "company_name = []\n",
    "for i in range(len(d)):\n",
    "    company_name.append(d[i].strip(\"\\n \\n\"))\n",
    "    company_name\n",
    "print(company_name)\n",
    "print(len(company_name))"
   ]
  },
  {
   "cell_type": "code",
   "execution_count": 21,
   "id": "58956403",
   "metadata": {},
   "outputs": [
    {
     "name": "stdout",
     "output_type": "stream",
     "text": [
      "['\\n            Bekasi, West Java, Indonesia\\n          ', '\\n            Bekasi, West Java, Indonesia\\n          ', '\\n            Yogyakarta, Yogyakarta, Indonesia\\n          ', '\\n            Tangerang Selatan, Banten, Indonesia\\n          ', '\\n            Tangerang Selatan, Banten, Indonesia\\n          ', '\\n            Yogyakarta, Yogyakarta, Indonesia\\n          ', '\\n            Jakarta, Jakarta, Indonesia\\n          ', '\\n            Bekasi, West Java, Indonesia\\n          ', '\\n            Cirebon, West Java, Indonesia\\n          ', '\\n            Jakarta, Jakarta, Indonesia\\n          ', '\\n            Jakarta, Jakarta, Indonesia\\n          ', '\\n            Jakarta, Jakarta, Indonesia\\n          ', '\\n            Jakarta, Jakarta, Indonesia\\n          ', '\\n            Jakarta, Jakarta, Indonesia\\n          ', '\\n            Yogyakarta, Yogyakarta, Indonesia\\n          ', '\\n            Jakarta, Jakarta, Indonesia\\n          ', '\\n            Jakarta, Jakarta, Indonesia\\n          ', '\\n            Bandung, East Java, Indonesia\\n          ', '\\n            Jakarta, Jakarta, Indonesia\\n          ', '\\n            Yogyakarta, Yogyakarta, Indonesia\\n          ', '\\n            Jakarta, Jakarta, Indonesia\\n          ', '\\n            Surabaya, East Java, Indonesia\\n          ', '\\n            Bekasi, West Java, Indonesia\\n          ', '\\n            Jakarta, Jakarta, Indonesia\\n          ', '\\n            Palembang, South Sumatra, Indonesia\\n          ', '\\n            Bekasi, West Java, Indonesia\\n          ', '\\n            Depok, West Java, Indonesia\\n          ', '\\n            Jakarta, Jakarta, Indonesia\\n          ', '\\n            Jakarta, Jakarta, Indonesia\\n          ', '\\n            Jakarta, Jakarta, Indonesia\\n          ', '\\n            Gianyar, Bali, Indonesia\\n          ', '\\n            Surabaya, West Java, Indonesia\\n          ', '\\n            Jakarta Selatan, Jakarta, Indonesia\\n          ', '\\n            Bandung, West Java, Indonesia\\n          ', '\\n            Jakarta, Jakarta, Indonesia\\n          ', '\\n            Jakarta, Jakarta, Indonesia\\n          ', '\\n            Jakarta, Jakarta, Indonesia\\n          ', '\\n            Jakarta, Jakarta, Indonesia\\n          ', '\\n            Jakarta, Jakarta, Indonesia\\n          ', '\\n            Jakarta, Jakarta, Indonesia\\n          ', '\\n            Jakarta, Jakarta, Indonesia\\n          ', '\\n            Jakarta, Jakarta, Indonesia\\n          ', '\\n            Jakarta, Jakarta, Indonesia\\n          ', '\\n            Badung, Bali, Indonesia\\n          ', '\\n            Jakarta, Jakarta, Indonesia\\n          ', '\\n            Jakarta, Jakarta, Indonesia\\n          ', '\\n            Semarang, Central Java, Indonesia\\n          ', '\\n            Surabaya, East Java, Indonesia\\n          ', '\\n            Bekasi, West Java, Indonesia\\n          ', '\\n            Bandung, Banten, Indonesia\\n          ', '\\n            Depok, Yogyakarta, Indonesia\\n          ', '\\n            Pekanbaru, Riau, Indonesia\\n          ', '\\n            Jakarta, Jakarta, Indonesia\\n          ', '\\n            Sukoharjo, Central Java, Indonesia\\n          ', '\\n            Jakarta, Jakarta, Indonesia\\n          ', '\\n            Depok, Yogyakarta, Indonesia\\n          ', '\\n            Jakarta, Jakarta, Indonesia\\n          ', '\\n            Jakarta, Jakarta, Indonesia\\n          ', '\\n            Bandung, Banten, Indonesia\\n          ', '\\n            Bogor, West Java, Indonesia\\n          ', '\\n            Surabaya, East Java, Indonesia\\n          ', '\\n            Jakarta, Jakarta, Indonesia\\n          ', '\\n            Duri Utara, Jakarta, Indonesia\\n          ', '\\n            Surabaya, West Java, Indonesia\\n          ', '\\n            Depok, Yogyakarta, Indonesia\\n          ', '\\n            Bandung, Banten, Indonesia\\n          ', '\\n            Surabaya, East Java, Indonesia\\n          ', '\\n            Yogyakarta, Yogyakarta, Indonesia\\n          ', '\\n            Jakarta, Jakarta, Indonesia\\n          ', '\\n            Jakarta, Jakarta, Indonesia\\n          ', '\\n            Jakarta, Jakarta, Indonesia\\n          ', '\\n            Jakarta, Jakarta, Indonesia\\n          ', '\\n            Garut, West Java, Indonesia\\n          ', '\\n            Duri Utara, Jakarta, Indonesia\\n          ', '\\n            Tangerang Selatan, Banten, Indonesia\\n          ', '\\n            Jakarta, Jakarta, Indonesia\\n          ', '\\n            Bandung, Banten, Indonesia\\n          ', '\\n            Jakarta, Jakarta, Indonesia\\n          ', '\\n            Depok, Yogyakarta, Indonesia\\n          ', '\\n            Tangerang, Banten, Indonesia\\n          ', '\\n            Tangerang Selatan, Banten, Indonesia\\n          ', '\\n            Mojokerto, East Java, Indonesia\\n          ', '\\n            Cirebon, West Java, Indonesia\\n          ', '\\n            Yogyakarta, Yogyakarta, Indonesia\\n          ', '\\n            Jakarta, Jakarta, Indonesia\\n          ', '\\n            Jakarta, Jakarta, Indonesia\\n          ', '\\n            Jakarta, Jakarta, Indonesia\\n          ', '\\n            Yogyakarta, Yogyakarta, Indonesia\\n          ', '\\n            Yogyakarta, Yogyakarta, Indonesia\\n          ', '\\n            Jakarta, Jakarta, Indonesia\\n          ', '\\n            Jakarta, Jakarta, Indonesia\\n          ', '\\n            Bandung, Banten, Indonesia\\n          ', '\\n            Bandung, Banten, Indonesia\\n          ', '\\n            Jakarta, Jakarta, Indonesia\\n          ', '\\n            Surabaya, East Java, Indonesia\\n          ', '\\n            Padang, West Sumatra, Indonesia\\n          ', '\\n            Tangerang, Banten, Indonesia\\n          ', '\\n            Tangerang, Banten, Indonesia\\n          ', '\\n            Jakarta, Jakarta, Indonesia\\n          ', '\\n            Jakarta, Jakarta, Indonesia\\n          ', '\\n            Jakarta, Jakarta, Indonesia\\n          ', '\\n            Bandung, West Java, Indonesia\\n          ', '\\n            Surabaya, East Java, Indonesia\\n          ', '\\n            Jakarta, Jakarta, Indonesia\\n          ', '\\n            Surabaya, East Java, Indonesia\\n          ', '\\n            Bandung, Banten, Indonesia\\n          ', '\\n            Jakarta, Jakarta, Indonesia\\n          ', '\\n            Jakarta, Jakarta, Indonesia\\n          ', '\\n            Bekasi Timur, West Java, Indonesia\\n          ', '\\n            Bandung, Banten, Indonesia\\n          ', '\\n            Surakarta, Central Java, Indonesia\\n          ', '\\n            Jakarta, Jakarta, Indonesia\\n          ', '\\n            Jakarta, Jakarta, Indonesia\\n          ', '\\n            Banjarmasin, South Kalimantan, Indonesia\\n          ', '\\n            Bandung, Banten, Indonesia\\n          ', '\\n            West Nusa Tenggara, Indonesia\\n          ', '\\n            Jakarta, Jakarta, Indonesia\\n          ', '\\n            Jakarta, Jakarta, Indonesia\\n          ', '\\n            West Java, Indonesia\\n          ', '\\n            Jakarta, Jakarta, Indonesia\\n          ', '\\n            Jakarta, Jakarta, Indonesia\\n          ', '\\n            Jakarta, Jakarta, Indonesia\\n          ', '\\n            Semarang, Central Java, Indonesia\\n          ', '\\n            Jakarta, Jakarta, Indonesia\\n          ', '\\n            Bandung Barat, West Java, Indonesia\\n          ', '\\n            Badung, Bali, Indonesia\\n          ', '\\n            Jakarta, Jakarta, Indonesia\\n          ', '\\n            Jakarta, Jakarta, Indonesia\\n          ', '\\n            Jakarta, Jakarta, Indonesia\\n          ', '\\n            Jakarta, Jakarta, Indonesia\\n          ', '\\n            Jakarta, Jakarta, Indonesia\\n          ', '\\n            Surabaya, East Java, Indonesia\\n          ', '\\n            Yogyakarta, Yogyakarta, Indonesia\\n          ', '\\n            West Jakarta, Jakarta, Indonesia\\n          ', '\\n            Jakarta, Jakarta, Indonesia\\n          ', '\\n            Jakarta, Jakarta, Indonesia\\n          ', '\\n            West Java, Indonesia\\n          ', '\\n            Jakarta, Jakarta, Indonesia\\n          ', '\\n            Bandung, Banten, Indonesia\\n          ', '\\n            Bogor, West Java, Indonesia\\n          ', '\\n            Bandung, West Java, Indonesia\\n          ', '\\n            Sukoharjo, Central Java, Indonesia\\n          ', '\\n            Bali, Indonesia\\n          ', '\\n            Bekasi, West Java, Indonesia\\n          ', '\\n            Jakarta, Jakarta, Indonesia\\n          ', '\\n            Jakarta, Jakarta, Indonesia\\n          ', '\\n            Jakarta, Jakarta, Indonesia\\n          ', '\\n            Jakarta, Jakarta, Indonesia\\n          ', '\\n            Jakarta, Jakarta, Indonesia\\n          ', '\\n            Jakarta Metropolitan Area\\n          ', '\\n            Madiun, East Java, Indonesia\\n          ', '\\n            Jakarta, Jakarta, Indonesia\\n          ', '\\n            Jakarta, Jakarta, Indonesia\\n          ', '\\n            Jakarta, Jakarta, Indonesia\\n          ', '\\n            Jakarta, Jakarta, Indonesia\\n          ', '\\n            Bandung, Banten, Indonesia\\n          ', '\\n            Jakarta, Jakarta, Indonesia\\n          ', '\\n            Bogor, West Java, Indonesia\\n          ', '\\n            Jakarta, Jakarta, Indonesia\\n          ', '\\n            Yogyakarta, Yogyakarta, Indonesia\\n          ', '\\n            Yogyakarta, Yogyakarta, Indonesia\\n          ', '\\n            Badung, Bali, Indonesia\\n          ', '\\n            Cianjur, West Java, Indonesia\\n          ', '\\n            Cirebon, West Java, Indonesia\\n          ', '\\n            Jakarta, Jakarta, Indonesia\\n          ', '\\n            Medan, North Sumatra, Indonesia\\n          ', '\\n            Jakarta, Jakarta, Indonesia\\n          ', '\\n            Jakarta, Indonesia\\n          ', '\\n            Jakarta, Jakarta, Indonesia\\n          ', '\\n            Buleleng, Bali, Indonesia\\n          ', '\\n            Jakarta, Jakarta, Indonesia\\n          ', '\\n            Bandung, West Java, Indonesia\\n          ', '\\n            Yogyakarta, Yogyakarta, Indonesia\\n          ', '\\n            Jakarta, Jakarta, Indonesia\\n          ', '\\n            Jakarta, Jakarta, Indonesia\\n          ', '\\n            Depok, Yogyakarta, Indonesia\\n          ', '\\n            Jakarta, Jakarta, Indonesia\\n          ', '\\n            Jakarta, Jakarta, Indonesia\\n          ', '\\n            Jakarta, Indonesia\\n          ', '\\n            Bandung Barat, West Java, Indonesia\\n          ', '\\n            Bandung, Banten, Indonesia\\n          ', '\\n            Kuta, Bali, Indonesia\\n          ', '\\n            Surakarta, Central Java, Indonesia\\n          ', '\\n            Bekasi, West Java, Indonesia\\n          ', '\\n            Jakarta, Jakarta, Indonesia\\n          ', '\\n            Yogyakarta, Yogyakarta, Indonesia\\n          ', '\\n            Jakarta, Jakarta, Indonesia\\n          ', '\\n            Yogyakarta, Yogyakarta, Indonesia\\n          ', '\\n            Yogyakarta, Yogyakarta, Indonesia\\n          ', '\\n            Jakarta, Jakarta, Indonesia\\n          ', '\\n            Jakarta, Jakarta, Indonesia\\n          ', '\\n            Jakarta, Jakarta, Indonesia\\n          ', '\\n            Jakarta, Jakarta, Indonesia\\n          ', '\\n            Jakarta, Jakarta, Indonesia\\n          ', '\\n            Jakarta, Jakarta, Indonesia\\n          ', '\\n            Jakarta, Jakarta, Indonesia\\n          ', '\\n            Jakarta, Jakarta, Indonesia\\n          ', '\\n            Banyumas, Central Java, Indonesia\\n          ', '\\n            Sedan, Central Java, Indonesia\\n          ', '\\n            Jakarta, Jakarta, Indonesia\\n          ', '\\n            Bandung, Banten, Indonesia\\n          ', '\\n            Tangerang, Banten, Indonesia\\n          ', '\\n            Jakarta, Jakarta, Indonesia\\n          ', '\\n            Jakarta, Jakarta, Indonesia\\n          ', '\\n            Tangerang, Banten, Indonesia\\n          ', '\\n            Jakarta, Jakarta, Indonesia\\n          ', '\\n            Jakarta, Jakarta, Indonesia\\n          ', '\\n            Jakarta, Jakarta, Indonesia\\n          ', '\\n            Bandung, Banten, Indonesia\\n          ', '\\n            Jakarta, Jakarta, Indonesia\\n          ', '\\n            Jakarta, Jakarta, Indonesia\\n          ', '\\n            Kebayoran Baru, Jakarta, Indonesia\\n          ', '\\n            Surabaya, East Java, Indonesia\\n          ', '\\n            Depok, Yogyakarta, Indonesia\\n          ', '\\n            Jakarta, Jakarta, Indonesia\\n          ', '\\n            Jakarta, Jakarta, Indonesia\\n          ', '\\n            Yogyakarta, Yogyakarta, Indonesia\\n          ', '\\n            Surabaya, East Java, Indonesia\\n          ', '\\n            Jakarta, Jakarta, Indonesia\\n          ', '\\n            Kuta, Bali, Indonesia\\n          ', '\\n            Surabaya, West Java, Indonesia\\n          ', '\\n            Jakarta, Jakarta, Indonesia\\n          ', '\\n            Bandung, West Java, Indonesia\\n          ', '\\n            Palembang, South Sumatra, Indonesia\\n          ', '\\n            Yogyakarta, Yogyakarta, Indonesia\\n          ', '\\n            Jakarta, Jakarta, Indonesia\\n          ', '\\n            Jakarta, Jakarta, Indonesia\\n          ', '\\n            Tangerang, Banten, Indonesia\\n          ', '\\n            Surabaya, East Java, Indonesia\\n          ', '\\n            Jakarta, Jakarta, Indonesia\\n          ', '\\n            Surabaya, East Java, Indonesia\\n          ', '\\n            Jakarta, Jakarta, Indonesia\\n          ', '\\n            Jakarta, Jakarta, Indonesia\\n          ', '\\n            Jakarta, Jakarta, Indonesia\\n          ', '\\n            Badung, Bali, Indonesia\\n          ', '\\n            Jakarta, Jakarta, Indonesia\\n          ', '\\n            Sukoharjo, Central Java, Indonesia\\n          ', '\\n            Tangerang, Banten, Indonesia\\n          ', '\\n            Bekasi, West Java, Indonesia\\n          ', '\\n            Mojokerto, East Java, Indonesia\\n          ', '\\n            Bekasi, West Java, Indonesia\\n          ', '\\n            Bandung, Banten, Indonesia\\n          ', '\\n            Bandung, East Java, Indonesia\\n          ', '\\n            Jakarta, Jakarta, Indonesia\\n          ', '\\n            Tangerang, Banten, Indonesia\\n          ', '\\n            Bekasi, West Java, Indonesia\\n          ', '\\n            Jakarta, Jakarta, Indonesia\\n          ', '\\n            Semarang, Central Java, Indonesia\\n          ', '\\n            Jakarta, Jakarta, Indonesia\\n          ', '\\n            Cikande, Banten, Indonesia\\n          ', '\\n            Jakarta, Jakarta, Indonesia\\n          ', '\\n            Jakarta, Jakarta, Indonesia\\n          ', '\\n            Bogor, West Java, Indonesia\\n          ', '\\n            Karawang, West Java, Indonesia\\n          ', '\\n            Jakarta, Jakarta, Indonesia\\n          ', '\\n            Jakarta, Jakarta, Indonesia\\n          ', '\\n            Bogor, West Java, Indonesia\\n          ', '\\n            Kalijati, West Java, Indonesia\\n          ', '\\n            Temanggung, Central Java, Indonesia\\n          ', '\\n            Tangerang, Banten, Indonesia\\n          ', '\\n            Bandung, West Java, Indonesia\\n          ', '\\n            Jakarta, Jakarta, Indonesia\\n          ', '\\n            Jakarta, Jakarta, Indonesia\\n          ', '\\n            Bandung, Banten, Indonesia\\n          ', '\\n            Jakarta, Jakarta, Indonesia\\n          ', '\\n            Medan, North Sumatra, Indonesia\\n          ', '\\n            Blora, Central Java, Indonesia\\n          ', '\\n            Jakarta, Jakarta, Indonesia\\n          ', '\\n            Jakarta, Jakarta, Indonesia\\n          ', '\\n            Jakarta, Jakarta, Indonesia\\n          ', '\\n            Jakarta, Jakarta, Indonesia\\n          ', '\\n            Surabaya, East Java, Indonesia\\n          ', '\\n            Jakarta, Jakarta, Indonesia\\n          ', '\\n            Kuningan, West Java, Indonesia\\n          ', '\\n            Jakarta, Jakarta, Indonesia\\n          ', '\\n            Bandung, Banten, Indonesia\\n          ', '\\n            Jakarta, Jakarta, Indonesia\\n          ', '\\n            Jakarta, Jakarta, Indonesia\\n          ', '\\n            Jakarta, Jakarta, Indonesia\\n          ', '\\n            Denpasar, Bali, Indonesia\\n          ', '\\n            Tangerang, Banten, Indonesia\\n          ', '\\n            Yogyakarta, Yogyakarta, Indonesia\\n          ', '\\n            Yogyakarta, Yogyakarta, Indonesia\\n          ', '\\n            Bali, Indonesia\\n          ', '\\n            Badung, Bali, Indonesia\\n          ', '\\n            Jakarta, Jakarta, Indonesia\\n          ', '\\n            Bali, Indonesia\\n          ', '\\n            Jakarta, Jakarta, Indonesia\\n          ', '\\n            Sidoarjo, East Java, Indonesia\\n          ', '\\n            Yogyakarta, Yogyakarta, Indonesia\\n          ', '\\n            Bali, Indonesia\\n          ', '\\n            Jakarta, Jakarta, Indonesia\\n          ', '\\n            Jakarta, Jakarta, Indonesia\\n          ', '\\n            Subang, West Java, Indonesia\\n          ', '\\n            Yogyakarta, Yogyakarta, Indonesia\\n          ', '\\n            Jakarta Metropolitan Area\\n          ', '\\n            Jakarta, Jakarta, Indonesia\\n          ', '\\n            Jakarta, Jakarta, Indonesia\\n          ', '\\n            Jakarta, Jakarta, Indonesia\\n          ', '\\n            Jakarta, Jakarta, Indonesia\\n          ', '\\n            Duri Utara, Jakarta, Indonesia\\n          ', '\\n            Pontianak, West Kalimantan, Indonesia\\n          ', '\\n            Jakarta, Jakarta, Indonesia\\n          ', '\\n            Bandung, West Java, Indonesia\\n          ', '\\n            Klari, West Java, Indonesia\\n          ', '\\n            Duri Utara, Jakarta, Indonesia\\n          ', '\\n            Surabaya, East Java, Indonesia\\n          ', '\\n            Jakarta, Jakarta, Indonesia\\n          ', '\\n            Yogyakarta, Yogyakarta, Indonesia\\n          ', '\\n            Jakarta, Jakarta, Indonesia\\n          ', '\\n            Bekasi, West Java, Indonesia\\n          ', '\\n            Jakarta, Jakarta, Indonesia\\n          ', '\\n            Jakarta, Jakarta, Indonesia\\n          ', '\\n            Cibatu, West Java, Indonesia\\n          ', '\\n            Surakarta, Central Java, Indonesia\\n          ', '\\n            Jakarta, Jakarta, Indonesia\\n          ', '\\n            Bandung, West Java, Indonesia\\n          ', '\\n            Yogyakarta, Yogyakarta, Indonesia\\n          ', '\\n            Bandung, Banten, Indonesia\\n          ', '\\n            Klaten, Central Java, Indonesia\\n          ', '\\n            Bogor, West Java, Indonesia\\n          ', '\\n            Yogyakarta, Yogyakarta, Indonesia\\n          ', '\\n            Jakarta, Jakarta, Indonesia\\n          ', '\\n            Kediri, East Java, Indonesia\\n          ', '\\n            Jakarta, Jakarta, Indonesia\\n          ', '\\n            Jakarta, Jakarta, Indonesia\\n          ', '\\n            Jakarta, Jakarta, Indonesia\\n          ', '\\n            Surakarta, Central Java, Indonesia\\n          ', '\\n            Jakarta, Jakarta, Indonesia\\n          ', '\\n            Denpasar, Bali, Indonesia\\n          ', '\\n            Lampung, Indonesia\\n          ', '\\n            Jakarta, Jakarta, Indonesia\\n          ', '\\n            Jakarta, Indonesia\\n          ', '\\n            Semarang, Central Java, Indonesia\\n          ', '\\n            Jakarta, Jakarta, Indonesia\\n          ', '\\n            Jakarta, Jakarta, Indonesia\\n          ', '\\n            Medan, North Sumatra, Indonesia\\n          ', '\\n            Jakarta, Jakarta, Indonesia\\n          ', '\\n            Jakarta, Jakarta, Indonesia\\n          ', '\\n            Jakarta, Jakarta, Indonesia\\n          ', '\\n            Jakarta, Jakarta, Indonesia\\n          ', '\\n            Jakarta, Jakarta, Indonesia\\n          ', '\\n            Jakarta, Jakarta, Indonesia\\n          ', '\\n            Jakarta, Jakarta, Indonesia\\n          ', '\\n            Jakarta, Jakarta, Indonesia\\n          ', '\\n            Yogyakarta, Yogyakarta, Indonesia\\n          ', '\\n            Jakarta, Jakarta, Indonesia\\n          ', '\\n            Yogyakarta, Yogyakarta, Indonesia\\n          ', '\\n            Jakarta, Jakarta, Indonesia\\n          ', '\\n            Bandung, Banten, Indonesia\\n          ', '\\n            Jakarta, Jakarta, Indonesia\\n          ', '\\n            Tangerang Selatan, Banten, Indonesia\\n          ', '\\n            Jakarta, Jakarta, Indonesia\\n          ', '\\n            Bandung, Banten, Indonesia\\n          ', '\\n            Jakarta, Jakarta, Indonesia\\n          ', '\\n            Bandung, Banten, Indonesia\\n          ', '\\n            Jakarta, Jakarta, Indonesia\\n          ', '\\n            Surabaya, East Java, Indonesia\\n          ', '\\n            Jakarta, Jakarta, Indonesia\\n          ', '\\n            Jakarta, Jakarta, Indonesia\\n          ', '\\n            Gianyar, Bali, Indonesia\\n          ', '\\n            Jakarta, Jakarta, Indonesia\\n          ', '\\n            Jakarta, Jakarta, Indonesia\\n          ', '\\n            Jakarta, Jakarta, Indonesia\\n          ', '\\n            Jakarta, Jakarta, Indonesia\\n          ', '\\n            Balikpapan, East Kalimantan, Indonesia\\n          ', '\\n            Jakarta, Jakarta, Indonesia\\n          ', '\\n            Jakarta, Jakarta, Indonesia\\n          ', '\\n            Bandung, Banten, Indonesia\\n          ', '\\n            Jakarta, Jakarta, Indonesia\\n          ', '\\n            Jakarta, Jakarta, Indonesia\\n          ', '\\n            Jakarta, Jakarta, Indonesia\\n          ', '\\n            Karawang, West Java, Indonesia\\n          ', '\\n            Subang, West Java, Indonesia\\n          ', '\\n            Jakarta, Jakarta, Indonesia\\n          ', '\\n            Jakarta, Jakarta, Indonesia\\n          ', '\\n            Jakarta, Jakarta, Indonesia\\n          ', '\\n            Bekasi, West Java, Indonesia\\n          ', '\\n            Jakarta, Jakarta, Indonesia\\n          ', '\\n            Jakarta, Jakarta, Indonesia\\n          ', '\\n            Jakarta, Jakarta, Indonesia\\n          ', '\\n            Tangerang Selatan, Banten, Indonesia\\n          ', '\\n            Jakarta, Jakarta, Indonesia\\n          ', '\\n            Jakarta, Indonesia\\n          ', '\\n            Jakarta, Jakarta, Indonesia\\n          ', '\\n            Jakarta, Jakarta, Indonesia\\n          ', '\\n            Cikarang, West Java, Indonesia\\n          ', '\\n            Jakarta, Jakarta, Indonesia\\n          ', '\\n            Jakarta, Jakarta, Indonesia\\n          ', '\\n            Bandung, Banten, Indonesia\\n          ', '\\n            Jakarta, Jakarta, Indonesia\\n          ', '\\n            Jakarta, Jakarta, Indonesia\\n          ', '\\n            Jakarta, Jakarta, Indonesia\\n          ', '\\n            Jakarta, Jakarta, Indonesia\\n          ', '\\n            Jakarta, Jakarta, Indonesia\\n          ', '\\n            Kota Cirebon, West Java, Indonesia\\n          ', '\\n            Jakarta, Jakarta, Indonesia\\n          ', '\\n            Duri Utara, Jakarta, Indonesia\\n          ', '\\n            Jakarta, Jakarta, Indonesia\\n          ', '\\n            Yogyakarta, Yogyakarta, Indonesia\\n          ', '\\n            Yogyakarta, Yogyakarta, Indonesia\\n          ', '\\n            Jakarta, Jakarta, Indonesia\\n          ', '\\n            Jakarta, Jakarta, Indonesia\\n          ', '\\n            Buleleng, Bali, Indonesia\\n          ', '\\n            Bandung Barat, West Java, Indonesia\\n          ', '\\n            Karanganyar, Central Java, Indonesia\\n          ', '\\n            Denpasar, Bali, Indonesia\\n          ', '\\n            Jakarta, Jakarta, Indonesia\\n          ', '\\n            Yogyakarta, Yogyakarta, Indonesia\\n          ', '\\n            Yogyakarta, Yogyakarta, Indonesia\\n          ', '\\n            Surabaya, East Java, Indonesia\\n          ', '\\n            Surabaya, East Java, Indonesia\\n          ', '\\n            Jakarta, Jakarta, Indonesia\\n          ', '\\n            Jakarta, Jakarta, Indonesia\\n          ', '\\n            Jakarta, Jakarta, Indonesia\\n          ', '\\n            Jakarta, Indonesia\\n          ', '\\n            Jakarta, Jakarta, Indonesia\\n          ', '\\n            Jakarta, Jakarta, Indonesia\\n          ', '\\n            Jakarta, Jakarta, Indonesia\\n          ', '\\n            Yogyakarta, Yogyakarta, Indonesia\\n          ', '\\n            Jakarta, Jakarta, Indonesia\\n          ', '\\n            Jakarta, Jakarta, Indonesia\\n          ', '\\n            Jakarta, Jakarta, Indonesia\\n          ', '\\n            Jakarta, Jakarta, Indonesia\\n          ', '\\n            Jakarta, Jakarta, Indonesia\\n          ', '\\n            Jakarta, Jakarta, Indonesia\\n          ', '\\n            Jakarta, Jakarta, Indonesia\\n          ', '\\n            Semarang, Central Java, Indonesia\\n          ', '\\n            Jakarta, Jakarta, Indonesia\\n          ', '\\n            Jakarta, Jakarta, Indonesia\\n          ', '\\n            Cikarang, West Java, Indonesia\\n          ', '\\n            Tangerang, Banten, Indonesia\\n          ', '\\n            Surabaya, East Java, Indonesia\\n          ', '\\n            Jakarta, Jakarta, Indonesia\\n          ', '\\n            Jakarta, Jakarta, Indonesia\\n          ', '\\n            Tangerang, Banten, Indonesia\\n          ', '\\n            Jakarta, Jakarta, Indonesia\\n          ', '\\n            Jakarta, Jakarta, Indonesia\\n          ', '\\n            Denpasar, Bali, Indonesia\\n          ', '\\n            Semarang, Central Java, Indonesia\\n          ', '\\n            Jakarta, Jakarta, Indonesia\\n          ', '\\n            Malang, East Java, Indonesia\\n          ', '\\n            Yogyakarta, Yogyakarta, Indonesia\\n          ', '\\n            Karawang Timur, West Java, Indonesia\\n          ', '\\n            Badung, Bali, Indonesia\\n          ', '\\n            Balikpapan, East Kalimantan, Indonesia\\n          ', '\\n            Jakarta, Jakarta, Indonesia\\n          ', '\\n            Karawang, West Java, Indonesia\\n          ', '\\n            Jakarta, Jakarta, Indonesia\\n          ', '\\n            Jakarta, Jakarta, Indonesia\\n          '] \n",
      "\n",
      "450\n"
     ]
    }
   ],
   "source": [
    "# Scraping job locations\n",
    "job_locations = lxml_soup.findAll(\"span\", class_=\"job-search-card__location\")\n",
    "e = []\n",
    "for i in job_locations:\n",
    "    e.append(i.text)\n",
    "print(e, \"\\n\")\n",
    "print(len(e))"
   ]
  },
  {
   "cell_type": "code",
   "execution_count": 23,
   "id": "c1d83256",
   "metadata": {},
   "outputs": [
    {
     "name": "stdout",
     "output_type": "stream",
     "text": [
      "['Bekasi, West Java, Indonesia', 'Bekasi, West Java, Indonesia', 'Yogyakarta, Yogyakarta, Indonesia', 'Tangerang Selatan, Banten, Indonesia', 'Tangerang Selatan, Banten, Indonesia', 'Yogyakarta, Yogyakarta, Indonesia', 'Jakarta, Jakarta, Indonesia', 'Bekasi, West Java, Indonesia', 'Cirebon, West Java, Indonesia', 'Jakarta, Jakarta, Indonesia', 'Jakarta, Jakarta, Indonesia', 'Jakarta, Jakarta, Indonesia', 'Jakarta, Jakarta, Indonesia', 'Jakarta, Jakarta, Indonesia', 'Yogyakarta, Yogyakarta, Indonesia', 'Jakarta, Jakarta, Indonesia', 'Jakarta, Jakarta, Indonesia', 'Bandung, East Java, Indonesia', 'Jakarta, Jakarta, Indonesia', 'Yogyakarta, Yogyakarta, Indonesia', 'Jakarta, Jakarta, Indonesia', 'Surabaya, East Java, Indonesia', 'Bekasi, West Java, Indonesia', 'Jakarta, Jakarta, Indonesia', 'Palembang, South Sumatra, Indonesia', 'Bekasi, West Java, Indonesia', 'Depok, West Java, Indonesia', 'Jakarta, Jakarta, Indonesia', 'Jakarta, Jakarta, Indonesia', 'Jakarta, Jakarta, Indonesia', 'Gianyar, Bali, Indonesia', 'Surabaya, West Java, Indonesia', 'Jakarta Selatan, Jakarta, Indonesia', 'Bandung, West Java, Indonesia', 'Jakarta, Jakarta, Indonesia', 'Jakarta, Jakarta, Indonesia', 'Jakarta, Jakarta, Indonesia', 'Jakarta, Jakarta, Indonesia', 'Jakarta, Jakarta, Indonesia', 'Jakarta, Jakarta, Indonesia', 'Jakarta, Jakarta, Indonesia', 'Jakarta, Jakarta, Indonesia', 'Jakarta, Jakarta, Indonesia', 'Badung, Bali, Indonesia', 'Jakarta, Jakarta, Indonesia', 'Jakarta, Jakarta, Indonesia', 'Semarang, Central Java, Indonesia', 'Surabaya, East Java, Indonesia', 'Bekasi, West Java, Indonesia', 'Bandung, Banten, Indonesia', 'Depok, Yogyakarta, Indonesia', 'Pekanbaru, Riau, Indonesia', 'Jakarta, Jakarta, Indonesia', 'Sukoharjo, Central Java, Indonesia', 'Jakarta, Jakarta, Indonesia', 'Depok, Yogyakarta, Indonesia', 'Jakarta, Jakarta, Indonesia', 'Jakarta, Jakarta, Indonesia', 'Bandung, Banten, Indonesia', 'Bogor, West Java, Indonesia', 'Surabaya, East Java, Indonesia', 'Jakarta, Jakarta, Indonesia', 'Duri Utara, Jakarta, Indonesia', 'Surabaya, West Java, Indonesia', 'Depok, Yogyakarta, Indonesia', 'Bandung, Banten, Indonesia', 'Surabaya, East Java, Indonesia', 'Yogyakarta, Yogyakarta, Indonesia', 'Jakarta, Jakarta, Indonesia', 'Jakarta, Jakarta, Indonesia', 'Jakarta, Jakarta, Indonesia', 'Jakarta, Jakarta, Indonesia', 'Garut, West Java, Indonesia', 'Duri Utara, Jakarta, Indonesia', 'Tangerang Selatan, Banten, Indonesia', 'Jakarta, Jakarta, Indonesia', 'Bandung, Banten, Indonesia', 'Jakarta, Jakarta, Indonesia', 'Depok, Yogyakarta, Indonesia', 'Tangerang, Banten, Indonesia', 'Tangerang Selatan, Banten, Indonesia', 'Mojokerto, East Java, Indonesia', 'Cirebon, West Java, Indonesia', 'Yogyakarta, Yogyakarta, Indonesia', 'Jakarta, Jakarta, Indonesia', 'Jakarta, Jakarta, Indonesia', 'Jakarta, Jakarta, Indonesia', 'Yogyakarta, Yogyakarta, Indonesia', 'Yogyakarta, Yogyakarta, Indonesia', 'Jakarta, Jakarta, Indonesia', 'Jakarta, Jakarta, Indonesia', 'Bandung, Banten, Indonesia', 'Bandung, Banten, Indonesia', 'Jakarta, Jakarta, Indonesia', 'Surabaya, East Java, Indonesia', 'Padang, West Sumatra, Indonesia', 'Tangerang, Banten, Indonesia', 'Tangerang, Banten, Indonesia', 'Jakarta, Jakarta, Indonesia', 'Jakarta, Jakarta, Indonesia', 'Jakarta, Jakarta, Indonesia', 'Bandung, West Java, Indonesia', 'Surabaya, East Java, Indonesia', 'Jakarta, Jakarta, Indonesia', 'Surabaya, East Java, Indonesia', 'Bandung, Banten, Indonesia', 'Jakarta, Jakarta, Indonesia', 'Jakarta, Jakarta, Indonesia', 'Bekasi Timur, West Java, Indonesia', 'Bandung, Banten, Indonesia', 'Surakarta, Central Java, Indonesia', 'Jakarta, Jakarta, Indonesia', 'Jakarta, Jakarta, Indonesia', 'Banjarmasin, South Kalimantan, Indonesia', 'Bandung, Banten, Indonesia', 'West Nusa Tenggara, Indonesia', 'Jakarta, Jakarta, Indonesia', 'Jakarta, Jakarta, Indonesia', 'West Java, Indonesia', 'Jakarta, Jakarta, Indonesia', 'Jakarta, Jakarta, Indonesia', 'Jakarta, Jakarta, Indonesia', 'Semarang, Central Java, Indonesia', 'Jakarta, Jakarta, Indonesia', 'Bandung Barat, West Java, Indonesia', 'Badung, Bali, Indonesia', 'Jakarta, Jakarta, Indonesia', 'Jakarta, Jakarta, Indonesia', 'Jakarta, Jakarta, Indonesia', 'Jakarta, Jakarta, Indonesia', 'Jakarta, Jakarta, Indonesia', 'Surabaya, East Java, Indonesia', 'Yogyakarta, Yogyakarta, Indonesia', 'West Jakarta, Jakarta, Indonesia', 'Jakarta, Jakarta, Indonesia', 'Jakarta, Jakarta, Indonesia', 'West Java, Indonesia', 'Jakarta, Jakarta, Indonesia', 'Bandung, Banten, Indonesia', 'Bogor, West Java, Indonesia', 'Bandung, West Java, Indonesia', 'Sukoharjo, Central Java, Indonesia', 'Bali, Indonesia', 'Bekasi, West Java, Indonesia', 'Jakarta, Jakarta, Indonesia', 'Jakarta, Jakarta, Indonesia', 'Jakarta, Jakarta, Indonesia', 'Jakarta, Jakarta, Indonesia', 'Jakarta, Jakarta, Indonesia', 'Jakarta Metropolitan Area', 'Madiun, East Java, Indonesia', 'Jakarta, Jakarta, Indonesia', 'Jakarta, Jakarta, Indonesia', 'Jakarta, Jakarta, Indonesia', 'Jakarta, Jakarta, Indonesia', 'Bandung, Banten, Indonesia', 'Jakarta, Jakarta, Indonesia', 'Bogor, West Java, Indonesia', 'Jakarta, Jakarta, Indonesia', 'Yogyakarta, Yogyakarta, Indonesia', 'Yogyakarta, Yogyakarta, Indonesia', 'Badung, Bali, Indonesia', 'Cianjur, West Java, Indonesia', 'Cirebon, West Java, Indonesia', 'Jakarta, Jakarta, Indonesia', 'Medan, North Sumatra, Indonesia', 'Jakarta, Jakarta, Indonesia', 'Jakarta, Indonesia', 'Jakarta, Jakarta, Indonesia', 'Buleleng, Bali, Indonesia', 'Jakarta, Jakarta, Indonesia', 'Bandung, West Java, Indonesia', 'Yogyakarta, Yogyakarta, Indonesia', 'Jakarta, Jakarta, Indonesia', 'Jakarta, Jakarta, Indonesia', 'Depok, Yogyakarta, Indonesia', 'Jakarta, Jakarta, Indonesia', 'Jakarta, Jakarta, Indonesia', 'Jakarta, Indonesia', 'Bandung Barat, West Java, Indonesia', 'Bandung, Banten, Indonesia', 'Kuta, Bali, Indonesia', 'Surakarta, Central Java, Indonesia', 'Bekasi, West Java, Indonesia', 'Jakarta, Jakarta, Indonesia', 'Yogyakarta, Yogyakarta, Indonesia', 'Jakarta, Jakarta, Indonesia', 'Yogyakarta, Yogyakarta, Indonesia', 'Yogyakarta, Yogyakarta, Indonesia', 'Jakarta, Jakarta, Indonesia', 'Jakarta, Jakarta, Indonesia', 'Jakarta, Jakarta, Indonesia', 'Jakarta, Jakarta, Indonesia', 'Jakarta, Jakarta, Indonesia', 'Jakarta, Jakarta, Indonesia', 'Jakarta, Jakarta, Indonesia', 'Jakarta, Jakarta, Indonesia', 'Banyumas, Central Java, Indonesia', 'Sedan, Central Java, Indonesia', 'Jakarta, Jakarta, Indonesia', 'Bandung, Banten, Indonesia', 'Tangerang, Banten, Indonesia', 'Jakarta, Jakarta, Indonesia', 'Jakarta, Jakarta, Indonesia', 'Tangerang, Banten, Indonesia', 'Jakarta, Jakarta, Indonesia', 'Jakarta, Jakarta, Indonesia', 'Jakarta, Jakarta, Indonesia', 'Bandung, Banten, Indonesia', 'Jakarta, Jakarta, Indonesia', 'Jakarta, Jakarta, Indonesia', 'Kebayoran Baru, Jakarta, Indonesia', 'Surabaya, East Java, Indonesia', 'Depok, Yogyakarta, Indonesia', 'Jakarta, Jakarta, Indonesia', 'Jakarta, Jakarta, Indonesia', 'Yogyakarta, Yogyakarta, Indonesia', 'Surabaya, East Java, Indonesia', 'Jakarta, Jakarta, Indonesia', 'Kuta, Bali, Indonesia', 'Surabaya, West Java, Indonesia', 'Jakarta, Jakarta, Indonesia', 'Bandung, West Java, Indonesia', 'Palembang, South Sumatra, Indonesia', 'Yogyakarta, Yogyakarta, Indonesia', 'Jakarta, Jakarta, Indonesia', 'Jakarta, Jakarta, Indonesia', 'Tangerang, Banten, Indonesia', 'Surabaya, East Java, Indonesia', 'Jakarta, Jakarta, Indonesia', 'Surabaya, East Java, Indonesia', 'Jakarta, Jakarta, Indonesia', 'Jakarta, Jakarta, Indonesia', 'Jakarta, Jakarta, Indonesia', 'Badung, Bali, Indonesia', 'Jakarta, Jakarta, Indonesia', 'Sukoharjo, Central Java, Indonesia', 'Tangerang, Banten, Indonesia', 'Bekasi, West Java, Indonesia', 'Mojokerto, East Java, Indonesia', 'Bekasi, West Java, Indonesia', 'Bandung, Banten, Indonesia', 'Bandung, East Java, Indonesia', 'Jakarta, Jakarta, Indonesia', 'Tangerang, Banten, Indonesia', 'Bekasi, West Java, Indonesia', 'Jakarta, Jakarta, Indonesia', 'Semarang, Central Java, Indonesia', 'Jakarta, Jakarta, Indonesia', 'Cikande, Banten, Indonesia', 'Jakarta, Jakarta, Indonesia', 'Jakarta, Jakarta, Indonesia', 'Bogor, West Java, Indonesia', 'Karawang, West Java, Indonesia', 'Jakarta, Jakarta, Indonesia', 'Jakarta, Jakarta, Indonesia', 'Bogor, West Java, Indonesia', 'Kalijati, West Java, Indonesia', 'Temanggung, Central Java, Indonesia', 'Tangerang, Banten, Indonesia', 'Bandung, West Java, Indonesia', 'Jakarta, Jakarta, Indonesia', 'Jakarta, Jakarta, Indonesia', 'Bandung, Banten, Indonesia', 'Jakarta, Jakarta, Indonesia', 'Medan, North Sumatra, Indonesia', 'Blora, Central Java, Indonesia', 'Jakarta, Jakarta, Indonesia', 'Jakarta, Jakarta, Indonesia', 'Jakarta, Jakarta, Indonesia', 'Jakarta, Jakarta, Indonesia', 'Surabaya, East Java, Indonesia', 'Jakarta, Jakarta, Indonesia', 'Kuningan, West Java, Indonesia', 'Jakarta, Jakarta, Indonesia', 'Bandung, Banten, Indonesia', 'Jakarta, Jakarta, Indonesia', 'Jakarta, Jakarta, Indonesia', 'Jakarta, Jakarta, Indonesia', 'Denpasar, Bali, Indonesia', 'Tangerang, Banten, Indonesia', 'Yogyakarta, Yogyakarta, Indonesia', 'Yogyakarta, Yogyakarta, Indonesia', 'Bali, Indonesia', 'Badung, Bali, Indonesia', 'Jakarta, Jakarta, Indonesia', 'Bali, Indonesia', 'Jakarta, Jakarta, Indonesia', 'Sidoarjo, East Java, Indonesia', 'Yogyakarta, Yogyakarta, Indonesia', 'Bali, Indonesia', 'Jakarta, Jakarta, Indonesia', 'Jakarta, Jakarta, Indonesia', 'Subang, West Java, Indonesia', 'Yogyakarta, Yogyakarta, Indonesia', 'Jakarta Metropolitan Area', 'Jakarta, Jakarta, Indonesia', 'Jakarta, Jakarta, Indonesia', 'Jakarta, Jakarta, Indonesia', 'Jakarta, Jakarta, Indonesia', 'Duri Utara, Jakarta, Indonesia', 'Pontianak, West Kalimantan, Indonesia', 'Jakarta, Jakarta, Indonesia', 'Bandung, West Java, Indonesia', 'Klari, West Java, Indonesia', 'Duri Utara, Jakarta, Indonesia', 'Surabaya, East Java, Indonesia', 'Jakarta, Jakarta, Indonesia', 'Yogyakarta, Yogyakarta, Indonesia', 'Jakarta, Jakarta, Indonesia', 'Bekasi, West Java, Indonesia', 'Jakarta, Jakarta, Indonesia', 'Jakarta, Jakarta, Indonesia', 'Cibatu, West Java, Indonesia', 'Surakarta, Central Java, Indonesia', 'Jakarta, Jakarta, Indonesia', 'Bandung, West Java, Indonesia', 'Yogyakarta, Yogyakarta, Indonesia', 'Bandung, Banten, Indonesia', 'Klaten, Central Java, Indonesia', 'Bogor, West Java, Indonesia', 'Yogyakarta, Yogyakarta, Indonesia', 'Jakarta, Jakarta, Indonesia', 'Kediri, East Java, Indonesia', 'Jakarta, Jakarta, Indonesia', 'Jakarta, Jakarta, Indonesia', 'Jakarta, Jakarta, Indonesia', 'Surakarta, Central Java, Indonesia', 'Jakarta, Jakarta, Indonesia', 'Denpasar, Bali, Indonesia', 'Lampung, Indonesia', 'Jakarta, Jakarta, Indonesia', 'Jakarta, Indonesia', 'Semarang, Central Java, Indonesia', 'Jakarta, Jakarta, Indonesia', 'Jakarta, Jakarta, Indonesia', 'Medan, North Sumatra, Indonesia', 'Jakarta, Jakarta, Indonesia', 'Jakarta, Jakarta, Indonesia', 'Jakarta, Jakarta, Indonesia', 'Jakarta, Jakarta, Indonesia', 'Jakarta, Jakarta, Indonesia', 'Jakarta, Jakarta, Indonesia', 'Jakarta, Jakarta, Indonesia', 'Jakarta, Jakarta, Indonesia', 'Yogyakarta, Yogyakarta, Indonesia', 'Jakarta, Jakarta, Indonesia', 'Yogyakarta, Yogyakarta, Indonesia', 'Jakarta, Jakarta, Indonesia', 'Bandung, Banten, Indonesia', 'Jakarta, Jakarta, Indonesia', 'Tangerang Selatan, Banten, Indonesia', 'Jakarta, Jakarta, Indonesia', 'Bandung, Banten, Indonesia', 'Jakarta, Jakarta, Indonesia', 'Bandung, Banten, Indonesia', 'Jakarta, Jakarta, Indonesia', 'Surabaya, East Java, Indonesia', 'Jakarta, Jakarta, Indonesia', 'Jakarta, Jakarta, Indonesia', 'Gianyar, Bali, Indonesia', 'Jakarta, Jakarta, Indonesia', 'Jakarta, Jakarta, Indonesia', 'Jakarta, Jakarta, Indonesia', 'Jakarta, Jakarta, Indonesia', 'Balikpapan, East Kalimantan, Indonesia', 'Jakarta, Jakarta, Indonesia', 'Jakarta, Jakarta, Indonesia', 'Bandung, Banten, Indonesia', 'Jakarta, Jakarta, Indonesia', 'Jakarta, Jakarta, Indonesia', 'Jakarta, Jakarta, Indonesia', 'Karawang, West Java, Indonesia', 'Subang, West Java, Indonesia', 'Jakarta, Jakarta, Indonesia', 'Jakarta, Jakarta, Indonesia', 'Jakarta, Jakarta, Indonesia', 'Bekasi, West Java, Indonesia', 'Jakarta, Jakarta, Indonesia', 'Jakarta, Jakarta, Indonesia', 'Jakarta, Jakarta, Indonesia', 'Tangerang Selatan, Banten, Indonesia', 'Jakarta, Jakarta, Indonesia', 'Jakarta, Indonesia', 'Jakarta, Jakarta, Indonesia', 'Jakarta, Jakarta, Indonesia', 'Cikarang, West Java, Indonesia', 'Jakarta, Jakarta, Indonesia', 'Jakarta, Jakarta, Indonesia', 'Bandung, Banten, Indonesia', 'Jakarta, Jakarta, Indonesia', 'Jakarta, Jakarta, Indonesia', 'Jakarta, Jakarta, Indonesia', 'Jakarta, Jakarta, Indonesia', 'Jakarta, Jakarta, Indonesia', 'Kota Cirebon, West Java, Indonesia', 'Jakarta, Jakarta, Indonesia', 'Duri Utara, Jakarta, Indonesia', 'Jakarta, Jakarta, Indonesia', 'Yogyakarta, Yogyakarta, Indonesia', 'Yogyakarta, Yogyakarta, Indonesia', 'Jakarta, Jakarta, Indonesia', 'Jakarta, Jakarta, Indonesia', 'Buleleng, Bali, Indonesia', 'Bandung Barat, West Java, Indonesia', 'Karanganyar, Central Java, Indonesia', 'Denpasar, Bali, Indonesia', 'Jakarta, Jakarta, Indonesia', 'Yogyakarta, Yogyakarta, Indonesia', 'Yogyakarta, Yogyakarta, Indonesia', 'Surabaya, East Java, Indonesia', 'Surabaya, East Java, Indonesia', 'Jakarta, Jakarta, Indonesia', 'Jakarta, Jakarta, Indonesia', 'Jakarta, Jakarta, Indonesia', 'Jakarta, Indonesia', 'Jakarta, Jakarta, Indonesia', 'Jakarta, Jakarta, Indonesia', 'Jakarta, Jakarta, Indonesia', 'Yogyakarta, Yogyakarta, Indonesia', 'Jakarta, Jakarta, Indonesia', 'Jakarta, Jakarta, Indonesia', 'Jakarta, Jakarta, Indonesia', 'Jakarta, Jakarta, Indonesia', 'Jakarta, Jakarta, Indonesia', 'Jakarta, Jakarta, Indonesia', 'Jakarta, Jakarta, Indonesia', 'Semarang, Central Java, Indonesia', 'Jakarta, Jakarta, Indonesia', 'Jakarta, Jakarta, Indonesia', 'Cikarang, West Java, Indonesia', 'Tangerang, Banten, Indonesia', 'Surabaya, East Java, Indonesia', 'Jakarta, Jakarta, Indonesia', 'Jakarta, Jakarta, Indonesia', 'Tangerang, Banten, Indonesia', 'Jakarta, Jakarta, Indonesia', 'Jakarta, Jakarta, Indonesia', 'Denpasar, Bali, Indonesia', 'Semarang, Central Java, Indonesia', 'Jakarta, Jakarta, Indonesia', 'Malang, East Java, Indonesia', 'Yogyakarta, Yogyakarta, Indonesia', 'Karawang Timur, West Java, Indonesia', 'Badung, Bali, Indonesia', 'Balikpapan, East Kalimantan, Indonesia', 'Jakarta, Jakarta, Indonesia', 'Karawang, West Java, Indonesia', 'Jakarta, Jakarta, Indonesia', 'Jakarta, Jakarta, Indonesia'] \n",
      "\n",
      "450\n"
     ]
    }
   ],
   "source": [
    "# Tidy up job location data\n",
    "job_location = []\n",
    "for i in range(len(e)):\n",
    "    job_location.append(e[i].strip(\"\\n \"))\n",
    "    job_location\n",
    "print(job_location, \"\\n\")\n",
    "print(len(job_location))"
   ]
  },
  {
   "cell_type": "code",
   "execution_count": 88,
   "id": "86972a7b",
   "metadata": {
    "scrolled": true
   },
   "outputs": [
    {
     "name": "stdout",
     "output_type": "stream",
     "text": [
      "<class 'pandas.core.frame.DataFrame'>\n",
      "Int64Index: 77 entries, 0 to 76\n",
      "Data columns (total 3 columns):\n",
      " #   Column        Non-Null Count  Dtype \n",
      "---  ------        --------------  ----- \n",
      " 0   Job Name      77 non-null     object\n",
      " 1   Company Name  77 non-null     object\n",
      " 2   Location      77 non-null     object\n",
      "dtypes: object(3)\n",
      "memory usage: 2.4+ KB\n",
      "None\n"
     ]
    },
    {
     "data": {
      "text/html": [
       "<div>\n",
       "<style scoped>\n",
       "    .dataframe tbody tr th:only-of-type {\n",
       "        vertical-align: middle;\n",
       "    }\n",
       "\n",
       "    .dataframe tbody tr th {\n",
       "        vertical-align: top;\n",
       "    }\n",
       "\n",
       "    .dataframe thead th {\n",
       "        text-align: right;\n",
       "    }\n",
       "</style>\n",
       "<table border=\"1\" class=\"dataframe\">\n",
       "  <thead>\n",
       "    <tr style=\"text-align: right;\">\n",
       "      <th></th>\n",
       "      <th>Job Name</th>\n",
       "      <th>Company Name</th>\n",
       "      <th>Location</th>\n",
       "    </tr>\n",
       "  </thead>\n",
       "  <tbody>\n",
       "    <tr>\n",
       "      <th>0</th>\n",
       "      <td>Quality Assurance Engineer</td>\n",
       "      <td>KlikDokter</td>\n",
       "      <td>Bekasi, West Java, Indonesia</td>\n",
       "    </tr>\n",
       "    <tr>\n",
       "      <th>1</th>\n",
       "      <td>Cloud Engineer / DevOps</td>\n",
       "      <td>KlikDokter</td>\n",
       "      <td>Bekasi, West Java, Indonesia</td>\n",
       "    </tr>\n",
       "    <tr>\n",
       "      <th>2</th>\n",
       "      <td>Account Executive (DailySocial)</td>\n",
       "      <td>PT Merah Cipta Media</td>\n",
       "      <td>Yogyakarta, Yogyakarta, Indonesia</td>\n",
       "    </tr>\n",
       "    <tr>\n",
       "      <th>3</th>\n",
       "      <td>Graphic Designer</td>\n",
       "      <td>Dropezy (YC W22)</td>\n",
       "      <td>Tangerang Selatan, Banten, Indonesia</td>\n",
       "    </tr>\n",
       "    <tr>\n",
       "      <th>4</th>\n",
       "      <td>Social Media Specialist</td>\n",
       "      <td>Prestisa</td>\n",
       "      <td>Tangerang Selatan, Banten, Indonesia</td>\n",
       "    </tr>\n",
       "    <tr>\n",
       "      <th>...</th>\n",
       "      <td>...</td>\n",
       "      <td>...</td>\n",
       "      <td>...</td>\n",
       "    </tr>\n",
       "    <tr>\n",
       "      <th>72</th>\n",
       "      <td>Copywriter Intern</td>\n",
       "      <td>PT. JACO NUSANTARA MANDIRI</td>\n",
       "      <td>Garut, West Java, Indonesia</td>\n",
       "    </tr>\n",
       "    <tr>\n",
       "      <th>73</th>\n",
       "      <td>TREVO ID - Graphic Designer Intern</td>\n",
       "      <td>SOCAR Mobility Malaysia</td>\n",
       "      <td>Duri Utara, Jakarta, Indonesia</td>\n",
       "    </tr>\n",
       "    <tr>\n",
       "      <th>74</th>\n",
       "      <td>Videographer</td>\n",
       "      <td>PT Murni Solusindo Nusantara</td>\n",
       "      <td>Tangerang Selatan, Banten, Indonesia</td>\n",
       "    </tr>\n",
       "    <tr>\n",
       "      <th>75</th>\n",
       "      <td>VP of Engineering</td>\n",
       "      <td>Zenius</td>\n",
       "      <td>Jakarta, Jakarta, Indonesia</td>\n",
       "    </tr>\n",
       "    <tr>\n",
       "      <th>76</th>\n",
       "      <td>Campaign Visual Designer</td>\n",
       "      <td>BenihBaik.com</td>\n",
       "      <td>Bandung, Banten, Indonesia</td>\n",
       "    </tr>\n",
       "  </tbody>\n",
       "</table>\n",
       "<p>77 rows × 3 columns</p>\n",
       "</div>"
      ],
      "text/plain": [
       "                              Job Name                  Company Name  \\\n",
       "0           Quality Assurance Engineer                    KlikDokter   \n",
       "1              Cloud Engineer / DevOps                    KlikDokter   \n",
       "2      Account Executive (DailySocial)          PT Merah Cipta Media   \n",
       "3                     Graphic Designer              Dropezy (YC W22)   \n",
       "4              Social Media Specialist                      Prestisa   \n",
       "..                                 ...                           ...   \n",
       "72                   Copywriter Intern    PT. JACO NUSANTARA MANDIRI   \n",
       "73  TREVO ID - Graphic Designer Intern       SOCAR Mobility Malaysia   \n",
       "74                        Videographer  PT Murni Solusindo Nusantara   \n",
       "75                   VP of Engineering                        Zenius   \n",
       "76            Campaign Visual Designer                 BenihBaik.com   \n",
       "\n",
       "                                Location  \n",
       "0           Bekasi, West Java, Indonesia  \n",
       "1           Bekasi, West Java, Indonesia  \n",
       "2      Yogyakarta, Yogyakarta, Indonesia  \n",
       "3   Tangerang Selatan, Banten, Indonesia  \n",
       "4   Tangerang Selatan, Banten, Indonesia  \n",
       "..                                   ...  \n",
       "72           Garut, West Java, Indonesia  \n",
       "73        Duri Utara, Jakarta, Indonesia  \n",
       "74  Tangerang Selatan, Banten, Indonesia  \n",
       "75           Jakarta, Jakarta, Indonesia  \n",
       "76            Bandung, Banten, Indonesia  \n",
       "\n",
       "[77 rows x 3 columns]"
      ]
     },
     "execution_count": 88,
     "metadata": {},
     "output_type": "execute_result"
    }
   ],
   "source": [
    "# Create dataframe\n",
    "job_dict = {\n",
    "    \"Job Name\" : job_title, \n",
    "    \"Company Name\" : company_name,\n",
    "    \"Location\" : job_location,\n",
    "}\n",
    "job_data = pd.DataFrame.from_dict(job_dict, orient='index')\n",
    "job_data = job_data.transpose()\n",
    "job_data = job_data.dropna()\n",
    "print(job_data.info())\n",
    "job_data"
   ]
  },
  {
   "cell_type": "code",
   "execution_count": 89,
   "id": "2dbe0c1c",
   "metadata": {},
   "outputs": [],
   "source": [
    "# Split string from Location to get province name\n",
    "a = []\n",
    "for i in job_data['Location'].str.split(','):\n",
    "    a.append(i[1].strip(' '))"
   ]
  },
  {
   "cell_type": "code",
   "execution_count": 90,
   "id": "23b841b3",
   "metadata": {
    "scrolled": true
   },
   "outputs": [
    {
     "data": {
      "text/html": [
       "<div>\n",
       "<style scoped>\n",
       "    .dataframe tbody tr th:only-of-type {\n",
       "        vertical-align: middle;\n",
       "    }\n",
       "\n",
       "    .dataframe tbody tr th {\n",
       "        vertical-align: top;\n",
       "    }\n",
       "\n",
       "    .dataframe thead th {\n",
       "        text-align: right;\n",
       "    }\n",
       "</style>\n",
       "<table border=\"1\" class=\"dataframe\">\n",
       "  <thead>\n",
       "    <tr style=\"text-align: right;\">\n",
       "      <th></th>\n",
       "      <th>Job Name</th>\n",
       "      <th>Company Name</th>\n",
       "      <th>Location</th>\n",
       "      <th>Provinsi</th>\n",
       "    </tr>\n",
       "  </thead>\n",
       "  <tbody>\n",
       "    <tr>\n",
       "      <th>0</th>\n",
       "      <td>Quality Assurance Engineer</td>\n",
       "      <td>KlikDokter</td>\n",
       "      <td>Bekasi, West Java, Indonesia</td>\n",
       "      <td>West Java</td>\n",
       "    </tr>\n",
       "    <tr>\n",
       "      <th>1</th>\n",
       "      <td>Cloud Engineer / DevOps</td>\n",
       "      <td>KlikDokter</td>\n",
       "      <td>Bekasi, West Java, Indonesia</td>\n",
       "      <td>West Java</td>\n",
       "    </tr>\n",
       "    <tr>\n",
       "      <th>2</th>\n",
       "      <td>Account Executive (DailySocial)</td>\n",
       "      <td>PT Merah Cipta Media</td>\n",
       "      <td>Yogyakarta, Yogyakarta, Indonesia</td>\n",
       "      <td>Yogyakarta</td>\n",
       "    </tr>\n",
       "    <tr>\n",
       "      <th>3</th>\n",
       "      <td>Graphic Designer</td>\n",
       "      <td>Dropezy (YC W22)</td>\n",
       "      <td>Tangerang Selatan, Banten, Indonesia</td>\n",
       "      <td>Banten</td>\n",
       "    </tr>\n",
       "    <tr>\n",
       "      <th>4</th>\n",
       "      <td>Social Media Specialist</td>\n",
       "      <td>Prestisa</td>\n",
       "      <td>Tangerang Selatan, Banten, Indonesia</td>\n",
       "      <td>Banten</td>\n",
       "    </tr>\n",
       "    <tr>\n",
       "      <th>...</th>\n",
       "      <td>...</td>\n",
       "      <td>...</td>\n",
       "      <td>...</td>\n",
       "      <td>...</td>\n",
       "    </tr>\n",
       "    <tr>\n",
       "      <th>72</th>\n",
       "      <td>Copywriter Intern</td>\n",
       "      <td>PT. JACO NUSANTARA MANDIRI</td>\n",
       "      <td>Garut, West Java, Indonesia</td>\n",
       "      <td>West Java</td>\n",
       "    </tr>\n",
       "    <tr>\n",
       "      <th>73</th>\n",
       "      <td>TREVO ID - Graphic Designer Intern</td>\n",
       "      <td>SOCAR Mobility Malaysia</td>\n",
       "      <td>Duri Utara, Jakarta, Indonesia</td>\n",
       "      <td>Jakarta</td>\n",
       "    </tr>\n",
       "    <tr>\n",
       "      <th>74</th>\n",
       "      <td>Videographer</td>\n",
       "      <td>PT Murni Solusindo Nusantara</td>\n",
       "      <td>Tangerang Selatan, Banten, Indonesia</td>\n",
       "      <td>Banten</td>\n",
       "    </tr>\n",
       "    <tr>\n",
       "      <th>75</th>\n",
       "      <td>VP of Engineering</td>\n",
       "      <td>Zenius</td>\n",
       "      <td>Jakarta, Jakarta, Indonesia</td>\n",
       "      <td>Jakarta</td>\n",
       "    </tr>\n",
       "    <tr>\n",
       "      <th>76</th>\n",
       "      <td>Campaign Visual Designer</td>\n",
       "      <td>BenihBaik.com</td>\n",
       "      <td>Bandung, Banten, Indonesia</td>\n",
       "      <td>Banten</td>\n",
       "    </tr>\n",
       "  </tbody>\n",
       "</table>\n",
       "<p>77 rows × 4 columns</p>\n",
       "</div>"
      ],
      "text/plain": [
       "                              Job Name                  Company Name  \\\n",
       "0           Quality Assurance Engineer                    KlikDokter   \n",
       "1              Cloud Engineer / DevOps                    KlikDokter   \n",
       "2      Account Executive (DailySocial)          PT Merah Cipta Media   \n",
       "3                     Graphic Designer              Dropezy (YC W22)   \n",
       "4              Social Media Specialist                      Prestisa   \n",
       "..                                 ...                           ...   \n",
       "72                   Copywriter Intern    PT. JACO NUSANTARA MANDIRI   \n",
       "73  TREVO ID - Graphic Designer Intern       SOCAR Mobility Malaysia   \n",
       "74                        Videographer  PT Murni Solusindo Nusantara   \n",
       "75                   VP of Engineering                        Zenius   \n",
       "76            Campaign Visual Designer                 BenihBaik.com   \n",
       "\n",
       "                                Location    Provinsi  \n",
       "0           Bekasi, West Java, Indonesia   West Java  \n",
       "1           Bekasi, West Java, Indonesia   West Java  \n",
       "2      Yogyakarta, Yogyakarta, Indonesia  Yogyakarta  \n",
       "3   Tangerang Selatan, Banten, Indonesia      Banten  \n",
       "4   Tangerang Selatan, Banten, Indonesia      Banten  \n",
       "..                                   ...         ...  \n",
       "72           Garut, West Java, Indonesia   West Java  \n",
       "73        Duri Utara, Jakarta, Indonesia     Jakarta  \n",
       "74  Tangerang Selatan, Banten, Indonesia      Banten  \n",
       "75           Jakarta, Jakarta, Indonesia     Jakarta  \n",
       "76            Bandung, Banten, Indonesia      Banten  \n",
       "\n",
       "[77 rows x 4 columns]"
      ]
     },
     "execution_count": 90,
     "metadata": {},
     "output_type": "execute_result"
    }
   ],
   "source": [
    "# Create new columns with province name\n",
    "job_data['Provinsi'] = a\n",
    "job_data"
   ]
  }
 ],
 "metadata": {
  "kernelspec": {
   "display_name": "web_scraping",
   "language": "python",
   "name": "web_scraping"
  },
  "language_info": {
   "codemirror_mode": {
    "name": "ipython",
    "version": 3
   },
   "file_extension": ".py",
   "mimetype": "text/x-python",
   "name": "python",
   "nbconvert_exporter": "python",
   "pygments_lexer": "ipython3",
   "version": "3.9.7"
  }
 },
 "nbformat": 4,
 "nbformat_minor": 5
}
